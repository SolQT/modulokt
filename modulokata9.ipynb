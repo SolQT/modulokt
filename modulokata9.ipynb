{
 "cells": [
  {
   "cell_type": "markdown",
   "metadata": {},
   "source": [
    "Ejercicio 1"
   ]
  },
  {
   "cell_type": "code",
   "execution_count": 5,
   "metadata": {},
   "outputs": [
    {
     "name": "stdout",
     "output_type": "stream",
     "text": [
      "reporte de combustible :\n",
      "    promedio : 78.33333333333333%\n",
      "    tanque1 : 80%\n",
      "    tanque2 : 70%\n",
      "    tanque3 : 85% \n",
      "    \n",
      "reporte de combustible :\n",
      "    totalpromedio : 78.0%\n",
      "    tanque1 : 88%\n",
      "    tanque2 : 76%\n",
      "    tanque3 : 70% \n",
      "    \n"
     ]
    }
   ],
   "source": [
    "def combustible(tanque1, tanque2, tanque3):\n",
    "    promedio = (tanque1 + tanque2 + tanque3) / 3\n",
    "    return f\"\"\"reporte de combustible :\n",
    "    promedio : {promedio}%\n",
    "    tanque1 : {tanque1}%\n",
    "    tanque2 : {tanque2}%\n",
    "    tanque3 : {tanque3}% \n",
    "    \"\"\"\n",
    "print(combustible(80, 70, 85))\n",
    "\n",
    "def promedio(values):\n",
    "    total = sum(values)\n",
    "    numeroitems = len(values)\n",
    "    return total / numeroitems\n",
    "\n",
    "promedio([80, 85, 81]) \n",
    "def combustible(tanque1, tanque2, tanque3):\n",
    "    return f\"\"\"reporte de combustible :\n",
    "    totalpromedio : {promedio([tanque1, tanque2, tanque3])}%\n",
    "    tanque1 : {tanque1}%\n",
    "    tanque2 : {tanque2}%\n",
    "    tanque3 : {tanque3}% \n",
    "    \"\"\"\n",
    "print(combustible(88, 76, 70))"
   ]
  },
  {
   "cell_type": "markdown",
   "metadata": {},
   "source": [
    "Ejercicio 2"
   ]
  },
  {
   "cell_type": "code",
   "execution_count": 6,
   "metadata": {},
   "outputs": [
    {
     "name": "stdout",
     "output_type": "stream",
     "text": [
      "\n",
      "    Mision a Luna\n",
      "    Tiempo total de vuelo: 65 minutos\n",
      "    Total de combustible restante: 500000 galones\n",
      "    \n",
      "\n",
      "    Mision a Luna\n",
      "    tiempo total de vuelo: 76 minutos\n",
      "    Total de combustible restante: 500000\n",
      "    \n",
      "\n",
      "    Mision a Luna\n",
      "    tiempo total de vuelo : 74 minutos\n",
      "    Total de combustible restante: 500000\n",
      "    tanque principal --> 300000 galones quedan tanque externo --> 200000 galones quedan \n"
     ]
    }
   ],
   "source": [
    "def reporte(tiempolanza, tiempovuelo, destino, tanqueexterno, tanqueprincipal):\n",
    "    return f\"\"\"\n",
    "    Mision a {destino}\n",
    "    Tiempo total de vuelo: {tiempolanza + tiempovuelo} minutos\n",
    "    Total de combustible restante: {tanqueexterno + tanqueprincipal} galones\n",
    "    \"\"\"\n",
    "\n",
    "print(reporte(14, 51, \"Luna\", 200000, 300000))\n",
    "\n",
    "def reporte(destino, *minutos, **reservacombutible):\n",
    "    return f\"\"\"\n",
    "    Mision a {destino}\n",
    "    tiempo total de vuelo: {sum(minutos)} minutos\n",
    "    Total de combustible restante: {sum(reservacombutible.values())}\n",
    "    \"\"\"\n",
    "\n",
    "print(reporte(\"Luna\", 10, 15, 51, principal=300000, externo=200000))\n",
    "\n",
    "def reporte(destino, *minutos, **reservacombustible):\n",
    "    reporteprincipal = f\"\"\"\n",
    "    Mision a {destino}\n",
    "    tiempo total de vuelo : {sum(minutos)} minutos\n",
    "    Total de combustible restante: {sum(reservacombustible.values())}\n",
    "    \"\"\"\n",
    "    for nombretanque, galones in reservacombustible.items():\n",
    "        reporteprincipal += f\"tanque {nombretanque} --> {galones} galones quedan \"\n",
    "    return reporteprincipal\n",
    "\n",
    "print(reporte(\"Luna\", 8, 11, 55, principal=300000, externo=200000))"
   ]
  }
 ],
 "metadata": {
  "interpreter": {
   "hash": "2b37ca56ce9f1a7021c709e554de0d0e1270829baea03674788ca1ca911eefa8"
  },
  "kernelspec": {
   "display_name": "Python 3.10.2 64-bit (windows store)",
   "language": "python",
   "name": "python3"
  },
  "language_info": {
   "codemirror_mode": {
    "name": "ipython",
    "version": 3
   },
   "file_extension": ".py",
   "mimetype": "text/x-python",
   "name": "python",
   "nbconvert_exporter": "python",
   "pygments_lexer": "ipython3",
   "version": "3.10.2"
  },
  "orig_nbformat": 4
 },
 "nbformat": 4,
 "nbformat_minor": 2
}
