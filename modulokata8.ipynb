{
 "cells": [
  {
   "cell_type": "markdown",
   "metadata": {},
   "source": [
    "Ejercicio 1"
   ]
  },
  {
   "cell_type": "code",
   "execution_count": 58,
   "metadata": {},
   "outputs": [
    {
     "name": "stdout",
     "output_type": "stream",
     "text": [
      "Marte tiene 2 lunas\n",
      "Marte tiene una circunferencia polar de 6752 km \n"
     ]
    }
   ],
   "source": [
    "planeta = {\n",
    "    'nombre' : 'Marte',\n",
    "    'lunas' : 2\n",
    "}\n",
    "\n",
    "print(f'{planeta[\"nombre\"]} tiene {planeta[\"lunas\"]} lunas')\n",
    "\n",
    "planeta['circunferencia'] = {\n",
    "    'polar' : 6752 ,\n",
    "    'ecuatorial' : 6792\n",
    "}\n",
    "print(f'{planeta[\"nombre\"]} tiene una circunferencia polar de {planeta[\"circunferencia\"][\"polar\"]} km ')"
   ]
  },
  {
   "cell_type": "markdown",
   "metadata": {},
   "source": [
    "Ejercicio 2"
   ]
  },
  {
   "cell_type": "code",
   "execution_count": 59,
   "metadata": {},
   "outputs": [
    {
     "name": "stdout",
     "output_type": "stream",
     "text": [
      "el numero total de lunas son : 214 y el promedio de lunas es : 17.833333333333332\n"
     ]
    }
   ],
   "source": [
    "planet_moons = {\n",
    "    'mercury': 0,\n",
    "    'venus': 0,\n",
    "    'earth': 1,\n",
    "    'mars': 2,\n",
    "    'jupiter': 79,\n",
    "    'saturn': 82,\n",
    "    'uranus': 27,\n",
    "    'neptune': 14,\n",
    "    'pluto': 5,\n",
    "    'haumea': 2,\n",
    "    'makemake': 1,\n",
    "    'eris': 1\n",
    "}\n",
    "lunas = planet_moons.values() \n",
    "planets = len(planet_moons.keys())\n",
    "\n",
    "total_lunas = 0\n",
    "\n",
    "for luna in lunas:\n",
    "    total_lunas = total_lunas + luna\n",
    "\n",
    "promedio = total_lunas / planets\n",
    "print(f'el numero total de lunas son : {total_lunas} y el promedio de lunas es : {promedio}')\n",
    "\n",
    "\n"
   ]
  }
 ],
 "metadata": {
  "interpreter": {
   "hash": "85017b6b36c4e0cd1c0b0688f9e4bee1ea35eb55ad2c1b4ca3a9c6d1fcde6205"
  },
  "kernelspec": {
   "display_name": "Python 3.10.2 ('env': venv)",
   "language": "python",
   "name": "python3"
  },
  "language_info": {
   "codemirror_mode": {
    "name": "ipython",
    "version": 3
   },
   "file_extension": ".py",
   "mimetype": "text/x-python",
   "name": "python",
   "nbconvert_exporter": "python",
   "pygments_lexer": "ipython3",
   "version": "3.10.2"
  },
  "orig_nbformat": 4
 },
 "nbformat": 4,
 "nbformat_minor": 2
}
